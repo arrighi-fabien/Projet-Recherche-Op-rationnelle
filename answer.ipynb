{
 "cells": [
  {
   "cell_type": "markdown",
   "metadata": {},
   "source": [
    "# Prosit 1"
   ]
  },
  {
   "cell_type": "markdown",
   "metadata": {},
   "source": [
    "Imporation des packages et création du graphe :"
   ]
  },
  {
   "cell_type": "code",
   "execution_count": 28,
   "metadata": {},
   "outputs": [],
   "source": [
    "import copy\n",
    "import time\n",
    "import networkx as nx\n",
    "from collections import deque\n",
    "from typing import Any, Callable\n",
    "\n",
    "graph = nx.Graph()"
   ]
  },
  {
   "cell_type": "markdown",
   "metadata": {},
   "source": [
    "Création des sommets et des arêtes :"
   ]
  },
  {
   "cell_type": "code",
   "execution_count": 29,
   "metadata": {},
   "outputs": [
    {
     "data": {
      "image/png": "[encoded data removed]",
      "text/plain": [
       "<Figure size 640x480 with 1 Axes>"
      ]
     },
     "metadata": {},
     "output_type": "display_data"
    }
   ],
   "source": [
    "street_list = {\n",
    "    1: [2, 4],\n",
    "    2: [1, 3],\n",
    "    3: [2, 4, 7, 13],\n",
    "    4: [1, 3, 5, 12],\n",
    "    5: [4, 9],\n",
    "    6: [11, 13],\n",
    "    7: [3, 10],\n",
    "    8: [11, 9],\n",
    "    9: [5, 8, 10, 12],\n",
    "    10: [7, 9],\n",
    "    11: [6, 8],\n",
    "    12: [4, 9],\n",
    "    13: [3, 6]\n",
    "}\n",
    "\n",
    "graph.add_nodes_from(street_list.keys())\n",
    "graph.add_edges_from([(key, value) for key, values in street_list.items() for value in values ])\n",
    "\n",
    "# Position des sommets fixée pour une meilleure lisibilité\n",
    "position = {\n",
    "    1: [2, 0],\n",
    "    2: [3, 0],\n",
    "    3: [3, 1],\n",
    "    4: [2, 1],\n",
    "    5: [1, 1],\n",
    "    6: [4, 4],\n",
    "    7: [3, 3],\n",
    "    8: [0, 2],\n",
    "    9: [1, 2],\n",
    "    10: [1, 3],\n",
    "    11: [0, 4],\n",
    "    12: [2, 2],\n",
    "    13: [4, 1]\n",
    "}\n",
    "\n",
    "nx.draw(graph, position, with_labels=True, node_size=700)"
   ]
  },
  {
   "cell_type": "markdown",
   "metadata": {},
   "source": [
    "Vérifier si un graphe contient un cycle eulérien"
   ]
  },
  {
   "cell_type": "code",
   "execution_count": 30,
   "metadata": {},
   "outputs": [],
   "source": [
    "def hasEulerianCycle(graph: nx.Graph) -> bool:\n",
    "    \"\"\"\n",
    "    Vérifie si le graphe possède un cycle eulérien.\n",
    "    Si le degré de chaque sommet est pair, alors le graphe possède un cycle eulérien.\n",
    "\n",
    "    Args:\n",
    "        graph: ``nx.Graph``-> Le graphe à vérifier\n",
    "\n",
    "    Returns:\n",
    "        ``bool``-> True si le graphe possède un cycle eulérien, False sinon\n",
    "    \"\"\"\n",
    "    for node in graph.nodes:\n",
    "        if graph.degree(node) % 2 != 0:\n",
    "            print(\"Le graphe n'a pas de cycle eulérien\")\n",
    "            return False\n",
    "    print(\"Le graphe a un cycle eulérien\")\n",
    "    return True\n",
    "\n",
    "def getDuration(func: Callable) -> Any:\n",
    "    \"\"\"\n",
    "    Décorateur qui affiche la durée d'exécution d'une fonction.\n",
    "\n",
    "    Args:\n",
    "        func: ``Callable``-> La fonction à décorer\n",
    "\n",
    "    Returns:\n",
    "        ``Any``-> Le résultat de la fonction décorée\n",
    "    \"\"\"\n",
    "    def wrapper(*args, **kwargs):\n",
    "        \"\"\"\n",
    "        Fonction interne qui calcule la durée d'exécution de la fonction décorée.\n",
    "        \"\"\"\n",
    "        start = time.time()\n",
    "        result = func(*args, **kwargs)\n",
    "        end = time.time()\n",
    "        print(f\"Durée de l'exécution : {end - start:.6f} secondes\")\n",
    "        return result\n",
    "    return wrapper"
   ]
  },
  {
   "cell_type": "markdown",
   "metadata": {},
   "source": [
    "Trouver le cycle eulérien"
   ]
  },
  {
   "cell_type": "code",
   "execution_count": 31,
   "metadata": {},
   "outputs": [
    {
     "name": "stdout",
     "output_type": "stream",
     "text": [
      "Le graphe a un cycle eulérien\n",
      "Durée de l'exécution : 0.000000 secondes\n",
      "Le cycle eulérien est le suivant :\n",
      "1 -> 4 -> 12 -> 9 -> 10 -> 7 -> 3 -> 13 -> 6 -> 11 -> 8 -> 9 -> 5 -> 4 -> 3 -> 2 -> 1\n"
     ]
    }
   ],
   "source": [
    "@getDuration\n",
    "def findEulerianCycle(graph: nx.Graph, start_node: int) -> deque:\n",
    "    \"\"\"\n",
    "    Trouve un cycle eulérien dans un graphe.\n",
    "\n",
    "    Args:\n",
    "        graph: ``nx.Graph``-> Le graphe à parcourir\n",
    "        start_node: ``int``-> Le sommet de départ du cycle\n",
    "\n",
    "    Returns:\n",
    "        ``deque``-> Le cycle eulérien trouvé\n",
    "    \"\"\"\n",
    "    if not hasEulerianCycle(graph):\n",
    "        return None\n",
    "    # Le graphe est passé par référence, on fait donc une copie du graphe pour éviter d'écraser ses données.\n",
    "    # Comme il faut aussi copier les listes internes, on fait une _copie profonde_\n",
    "    graph = copy.deepcopy(graph)\n",
    "\n",
    "    cycle = deque()     # Cycle est le cycle à construire\n",
    "    stack = deque()     # Stack est la pile de sommets à traiter\n",
    "    current_node = start_node    # current_node est le sommet courant. on commence avec le sommet choisi\n",
    "\n",
    "    # On boucle tant qu'il y a des sommets à traiter dans la pile\n",
    "    # ou que le sommet courant possède au moins 1 voisin non traité\n",
    "    while(len(stack) > 0 or graph.degree(current_node) != 0):\n",
    "        # Si le sommet courant ne possède aucun voisin, on l'ajoute au cycle\n",
    "        # et on revient au sommet ajouté précédemment dans la pile (backtracking)\n",
    "        # qui devient le nouveau sommet courant\n",
    "        if len(graph[current_node]) == 0:\n",
    "            cycle.append(current_node)\n",
    "            current_node = stack.pop()\n",
    "\n",
    "        # Si il a au moins 1 voisin, on l'ajoute à la stack pour y revenir plus tard (backtracking)\n",
    "        # on retire l'arête qu'il partage avec ce voisin, qui devient le sommet courant\n",
    "        else:\n",
    "            stack.append(current_node)\n",
    "            for neighbor in graph[current_node]:\n",
    "                graph.remove_edge(current_node, neighbor)\n",
    "                current_node = neighbor\n",
    "                break\n",
    "\n",
    "    cycle.append(current_node)\n",
    "    return cycle\n",
    "\n",
    "cycle = findEulerianCycle(graph, 1)\n",
    "print('Le cycle eulérien est le suivant :')\n",
    "for i, node in enumerate(cycle):\n",
    "    if i != len(cycle) - 1:\n",
    "        print(node, end=' -> ')\n",
    "    else:\n",
    "        print(node)"
   ]
  },
  {
   "cell_type": "markdown",
   "metadata": {},
   "source": [
    "Afficher le résultat :"
   ]
  },
  {
   "cell_type": "code",
   "execution_count": 32,
   "metadata": {},
   "outputs": [
    {
     "data": {
      "image/png": "[encoded data removed]",
      "text/plain": [
       "<Figure size 640x480 with 1 Axes>"
      ]
     },
     "metadata": {},
     "output_type": "display_data"
    }
   ],
   "source": [
    "import matplotlib.colors as mcolors\n",
    "\n",
    "if cycle:\n",
    "    # Créez le graphe orienté avec les sommets du cycle\n",
    "    oriented_graph = nx.DiGraph()\n",
    "    oriented_graph.add_nodes_from(graph.nodes)\n",
    "\n",
    "    # Créez une échelle de couleurs allant du noir au rouge\n",
    "    cmap = mcolors.LinearSegmentedColormap.from_list(\"black_red\", [\"black\", \"red\"])\n",
    "    num_edges = len(cycle) - 1\n",
    "    edge_colors = [mcolors.to_hex(cmap(i / num_edges)) for i in range(num_edges)]\n",
    "\n",
    "    # Créer la liste des arêtes du cycle en gardant l'ordre\n",
    "    edges = [(cycle[i], cycle[i+1]) for i in range(num_edges)]\n",
    "    # Dessinez le graphe avec les couleurs spécifiées\n",
    "    nx.draw(oriented_graph, position, with_labels=True, node_size=700, edgelist=edges, edge_color=edge_colors, arrows=True)"
   ]
  }
 ],
 "metadata": {
  "kernelspec": {
   "display_name": "Python 3",
   "language": "python",
   "name": "python3"
  },
  "language_info": {
   "codemirror_mode": {
    "name": "ipython",
    "version": 3
   },
   "file_extension": ".py",
   "mimetype": "text/x-python",
   "name": "python",
   "nbconvert_exporter": "python",
   "pygments_lexer": "ipython3",
   "version": "3.11.8"
  }
 },
 "nbformat": 4,
 "nbformat_minor": 2
}
