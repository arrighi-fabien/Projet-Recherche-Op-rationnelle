{
 "cells": [
  {
   "cell_type": "markdown",
   "metadata": {},
   "source": [
    "## Contexte et presentation du problème\n",
    "\n",
    "Avec la nécessité de prendre en compte l'écologie, des mesures sont à prendre afin d'optimiser les processus de livraison. Nous representons une entreprise nommée CesiCDP dont l'objectif est de trouver des solution pour aider à la transistion écologique et technologique. L'ADEME propose des financement pour les entreprises proposant des solutions de mobilité plus écologiques et responsable. Il s'agirait pour notre entreprise d'arriver à trouver une solution algorithmique permetant de calculer sur un réseau routier une tournée permettant de relier entre elles un sous-ensemble de villes, puis de revenir à son point de départ, de manière à minimiser la durée totale de la tournée.\n",
    "\n",
    "![schema_contexte](img/projet_1.png)\n",
    "\n",
    "Le schema ci-dessus montre les routes que nous devons optimiser."
   ]
  }
 ],
 "metadata": {
  "language_info": {
   "name": "python"
  }
 },
 "nbformat": 4,
 "nbformat_minor": 2
}
